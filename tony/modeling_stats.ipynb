{
 "cells": [
  {
   "cell_type": "code",
   "execution_count": 1,
   "metadata": {},
   "outputs": [
    {
     "name": "stdout",
     "output_type": "stream",
     "text": [
      "iar_0531_stats.csv 2018-06-01 00:00:00 2018-06-02 23:00:00\n"
     ]
    }
   ],
   "source": [
    "from util import *\n",
    "start_time = (pd.datetime.now(pytz.utc)-pd.DateOffset(-1)).strftime('%Y-%m-%d 00:00:00')\n",
    "end_time = (pd.datetime.now(pytz.utc)-pd.DateOffset(-2)).strftime('%Y-%m-%d 23:00:00')\n",
    "utc_time = pd.date_range(start=start_time, end=end_time, freq=\"1H\")\n",
    "\n",
    "dfs = []\n",
    "for city in ['bj', 'ld']:\n",
    "    df_aq = pd.read_csv(\"../input/\" + city + \"_aq_imputed.csv\")\n",
    "    df_aq.utc_time = pd.to_datetime(df_aq.utc_time)\n",
    "    df_aq_table = get_aq_stats(df_aq)\n",
    "    df_aq_table = df_aq_table.reset_index()\n",
    "    df_station = pd.read_csv(\"../input/\" + city +\"_aq_stations.csv\")\n",
    "    df_sample = get_submission_init(df_station, city)\n",
    "    df_sample['weekofyear'] = df_sample.utc_time.dt.weekofyear\n",
    "    df_sample['hour'] = df_sample.utc_time.dt.hour\n",
    "    df = pd.merge(df_sample, df_aq_table, how='left', suffixes=(\"\", \"_stats\"),\n",
    "                  left_on =['stationId', 'weekofyear', 'hour'], \n",
    "                  right_on=['stationId', 'weekofyear', 'hour'])\n",
    "\n",
    "    time_to_idx = {time:str(i) for i, time in enumerate(utc_time)}\n",
    "    df['test_id'] = df.stationId + \"#\" + df.utc_time.apply(lambda time: time_to_idx[time])\n",
    "    if city=='ld':\n",
    "        df['O3'] = 0\n",
    "    df = df[['test_id', 'PM2.5', 'PM10', 'O3']].sort_values(by='test_id')\n",
    "    dfs.append(df)\n",
    "\n",
    "df = pd.concat(dfs, ignore_index=True)\n",
    "\n",
    "mmdd = pd.datetime.now(pytz.utc).strftime('%m%d')\n",
    "filename = \"iar_\"+ mmdd + \"_stats.csv\"\n",
    "df.to_csv(\"../submission/\"+ filename, index=False)\n",
    "print(filename, start_time, end_time)"
   ]
  },
  {
   "cell_type": "code",
   "execution_count": 3,
   "metadata": {
    "scrolled": true
   },
   "outputs": [
    {
     "name": "stdout",
     "output_type": "stream",
     "text": [
      "{\"success\": true}\n"
     ]
    }
   ],
   "source": [
    "kdd_2018_submit(filename, \"Stats baseline\")"
   ]
  },
  {
   "cell_type": "code",
   "execution_count": null,
   "metadata": {},
   "outputs": [],
   "source": []
  }
 ],
 "metadata": {
  "kernelspec": {
   "display_name": "Python 3",
   "language": "python",
   "name": "python3"
  },
  "language_info": {
   "codemirror_mode": {
    "name": "ipython",
    "version": 3
   },
   "file_extension": ".py",
   "mimetype": "text/x-python",
   "name": "python",
   "nbconvert_exporter": "python",
   "pygments_lexer": "ipython3",
   "version": "3.6.3"
  }
 },
 "nbformat": 4,
 "nbformat_minor": 2
}
