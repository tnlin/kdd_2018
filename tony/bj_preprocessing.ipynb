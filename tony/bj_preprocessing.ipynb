{
 "cells": [
  {
   "cell_type": "code",
   "execution_count": 1,
   "metadata": {},
   "outputs": [],
   "source": [
    "import numpy as np\n",
    "import pandas as pd\n",
    "from sklearn.preprocessing import OneHotEncoder, LabelEncoder\n",
    "from sklearn.metrics import mean_absolute_error\n",
    "import requests"
   ]
  },
  {
   "cell_type": "markdown",
   "metadata": {},
   "source": [
    "For Beijing:\n",
    "* Air Quality data: https://biendata.com/competition/airquality/bj/2018-04-01-0/2018-04-01-23/2k0d1d8\n",
    "* Observed Meteorology: https://biendata.com/competition/meteorology/bj/2018-04-01-0/2018-04-01-23/2k0d1d8\n",
    "* Meteorology Grid Data: https://biendata.com/competition/meteorology/bj_grid/2018-04-01-0/2018-04-01-23/2k0d1d8\n",
    "\n",
    "For London:\n",
    "* Air Quality data: https://biendata.com/competition/airquality/ld/2018-04-01-0/2018-04-01-23/2k0d1d8\n",
    "* Meteorology Grid Data: https://biendata.com/competition/meteorology/ld_grid/2018-04-01-0/2018-04-01-23/2k0d1d8\n",
    "* 48-future http://kdd.caiyunapp.com/competition/forecast/bj/2018-04-29-0/2k0d1d8\n",
    "\n",
    "* `wget https://biendata.com/competition/airquality/ld/2018-03-30-0/2018-04-28-23/2k0d1d8 -O ld_aq_0330_0428.csv`\n",
    "* `wget https://biendata.com/competition/airquality/bj/2018-03-30-0/2018-04-28-23/2k0d1d8 -O bj_aq_0330_0428.csv`\n",
    "* `wget https://biendata.com/competition/meteorology/bj_grid/2018-03-30-0/2018-04-28-23/2k0d1d8 -O bj_meo_0330_0428.csv`\n",
    "* `wget https://biendata.com/competition/meteorology/ld_grid/2018-03-30-0/2018-04-28-23/2k0d1d8 -O ld_meo_0330_0428.csv`"
   ]
  },
  {
   "cell_type": "code",
   "execution_count": 2,
   "metadata": {},
   "outputs": [],
   "source": [
    "df_aq = pd.read_csv(\"../input/beijing_1701_1803.csv\")\n",
    "df_meo = pd.read_csv(\"../input/Beijing_historical_meo_grid.csv\")\n",
    "df_station = pd.read_csv(\"../input/Beijing_AirQuality_Stations.csv\")\n",
    "target_cols = ['PM2.5', 'PM10', 'O3']\n",
    "\n",
    "df_aq.utc_time = pd.to_datetime(df_aq.utc_time)\n",
    "df_meo.utc_time = pd.to_datetime(df_meo.utc_time)\n",
    "\n",
    "dfs = []\n",
    "for stationId in df_aq.stationId.unique():\n",
    "    df = df_aq[df_aq['stationId']==stationId]\n",
    "    df = df.resample('1H', on='utc_time').sum()\n",
    "    df = df.reset_index()\n",
    "    df['stationId'] = stationId\n",
    "    dfs.append(df)\n",
    "df_ = pd.concat(dfs)"
   ]
  },
  {
   "cell_type": "markdown",
   "metadata": {
    "hidden": true
   },
   "source": [
    "## 合併aq和station"
   ]
  },
  {
   "cell_type": "code",
   "execution_count": null,
   "metadata": {
    "hidden": true
   },
   "outputs": [],
   "source": [
    "# df_aq_station = pd.merge(df_aq, df_station, how='left',  left_on='stationId', right_on='Station_ID',)\n",
    "# del df_aq_station['Station_ID']\n",
    "# df_aq_station.to_csv(\"../input/beijing_1701_1803_station.csv\", index=False)"
   ]
  },
  {
   "cell_type": "markdown",
   "metadata": {},
   "source": [
    "# Workspace"
   ]
  },
  {
   "cell_type": "code",
   "execution_count": 23,
   "metadata": {},
   "outputs": [
    {
     "ename": "AttributeError",
     "evalue": "'DataFrame' object has no attribute 'longitude'",
     "output_type": "error",
     "traceback": [
      "\u001b[0;31m---------------------------------------------------------------------------\u001b[0m",
      "\u001b[0;31mAttributeError\u001b[0m                            Traceback (most recent call last)",
      "\u001b[0;32m<ipython-input-23-3f6faa2ef033>\u001b[0m in \u001b[0;36m<module>\u001b[0;34m()\u001b[0m\n\u001b[0;32m----> 1\u001b[0;31m \u001b[0mdf_\u001b[0m\u001b[0;34m.\u001b[0m\u001b[0mlongitude\u001b[0m \u001b[0;34m=\u001b[0m \u001b[0mdf_\u001b[0m\u001b[0;34m.\u001b[0m\u001b[0mlongitude\u001b[0m\u001b[0;34m.\u001b[0m\u001b[0mround\u001b[0m\u001b[0;34m(\u001b[0m\u001b[0;36m1\u001b[0m\u001b[0;34m)\u001b[0m\u001b[0;34m\u001b[0m\u001b[0m\n\u001b[0m\u001b[1;32m      2\u001b[0m \u001b[0mdf_\u001b[0m\u001b[0;34m.\u001b[0m\u001b[0mlatitude\u001b[0m \u001b[0;34m=\u001b[0m \u001b[0mdf_\u001b[0m\u001b[0;34m.\u001b[0m\u001b[0mlatitude\u001b[0m\u001b[0;34m.\u001b[0m\u001b[0mround\u001b[0m\u001b[0;34m(\u001b[0m\u001b[0;36m1\u001b[0m\u001b[0;34m)\u001b[0m\u001b[0;34m\u001b[0m\u001b[0m\n\u001b[1;32m      3\u001b[0m \u001b[0;34m\u001b[0m\u001b[0m\n\u001b[1;32m      4\u001b[0m \u001b[0mdf_\u001b[0m \u001b[0;34m=\u001b[0m \u001b[0mpd\u001b[0m\u001b[0;34m.\u001b[0m\u001b[0mmerge\u001b[0m\u001b[0;34m(\u001b[0m\u001b[0mdf_\u001b[0m\u001b[0;34m,\u001b[0m \u001b[0mdf_station\u001b[0m\u001b[0;34m,\u001b[0m \u001b[0;34m'left'\u001b[0m\u001b[0;34m,\u001b[0m \u001b[0mleft_on\u001b[0m\u001b[0;34m=\u001b[0m\u001b[0;34m'stationId'\u001b[0m\u001b[0;34m,\u001b[0m \u001b[0mright_on\u001b[0m\u001b[0;34m=\u001b[0m\u001b[0;34m'Station_ID'\u001b[0m\u001b[0;34m)\u001b[0m\u001b[0;34m\u001b[0m\u001b[0m\n\u001b[1;32m      5\u001b[0m df_ = pd.merge(df_, df_meo, 'left', \n",
      "\u001b[0;32m~/venv/lib/python3.4/site-packages/pandas/core/generic.py\u001b[0m in \u001b[0;36m__getattr__\u001b[0;34m(self, name)\u001b[0m\n\u001b[1;32m   3612\u001b[0m             \u001b[0;32mif\u001b[0m \u001b[0mname\u001b[0m \u001b[0;32min\u001b[0m \u001b[0mself\u001b[0m\u001b[0;34m.\u001b[0m\u001b[0m_info_axis\u001b[0m\u001b[0;34m:\u001b[0m\u001b[0;34m\u001b[0m\u001b[0m\n\u001b[1;32m   3613\u001b[0m                 \u001b[0;32mreturn\u001b[0m \u001b[0mself\u001b[0m\u001b[0;34m[\u001b[0m\u001b[0mname\u001b[0m\u001b[0;34m]\u001b[0m\u001b[0;34m\u001b[0m\u001b[0m\n\u001b[0;32m-> 3614\u001b[0;31m             \u001b[0;32mreturn\u001b[0m \u001b[0mobject\u001b[0m\u001b[0;34m.\u001b[0m\u001b[0m__getattribute__\u001b[0m\u001b[0;34m(\u001b[0m\u001b[0mself\u001b[0m\u001b[0;34m,\u001b[0m \u001b[0mname\u001b[0m\u001b[0;34m)\u001b[0m\u001b[0;34m\u001b[0m\u001b[0m\n\u001b[0m\u001b[1;32m   3615\u001b[0m \u001b[0;34m\u001b[0m\u001b[0m\n\u001b[1;32m   3616\u001b[0m     \u001b[0;32mdef\u001b[0m \u001b[0m__setattr__\u001b[0m\u001b[0;34m(\u001b[0m\u001b[0mself\u001b[0m\u001b[0;34m,\u001b[0m \u001b[0mname\u001b[0m\u001b[0;34m,\u001b[0m \u001b[0mvalue\u001b[0m\u001b[0;34m)\u001b[0m\u001b[0;34m:\u001b[0m\u001b[0;34m\u001b[0m\u001b[0m\n",
      "\u001b[0;31mAttributeError\u001b[0m: 'DataFrame' object has no attribute 'longitude'"
     ]
    }
   ],
   "source": [
    "df_ = pd.merge(df_, df_station, 'left', left_on='stationId', right_on='Station_ID')\n",
    "df_ = pd.merge(df_, df_meo, 'left', \n",
    "              left_on=['utc_time', 'longitude', 'latitude'], \n",
    "              right_on=['utc_time', 'longitude', 'latitude']\n",
    "             )\n",
    "df_.longitude = df_.longitude.round(1)\n",
    "df_.latitude = df_.latitude.round(1)\n",
    "\n",
    "_, bins = pd.cut(df_['wind_direction'], bins=16, retbins=True)\n",
    "df_['wind_direction'] = pd.cut(df_['wind_direction'], bins=16, labels=False)\n",
    "\n",
    "le_wind_direction = LabelEncoder()\n",
    "le_wind_direction.fit(df_.station_type)\n",
    "df_.station_type = le_wind_direction.transform(df_.station_type)\n",
    "\n",
    "\n",
    "le_stationId = LabelEncoder()\n",
    "le_stationId.fit(df_.stationId)\n",
    "df_.stationId = le_stationId.transform(df_.stationId)\n",
    "\n",
    "df_ = pd.get_dummies(df_, columns=['stationId'])\n",
    "\n",
    "df_['year'] = df_.utc_time.dt.year\n",
    "df_['month'] = df_.utc_time.dt.month\n",
    "df_['day'] = df_.utc_time.dt.day\n",
    "df_['hour'] = df_.utc_time.dt.hour\n",
    "df_['weekday'] = df_.utc_time.dt.weekday"
   ]
  },
  {
   "cell_type": "code",
   "execution_count": null,
   "metadata": {
    "scrolled": true
   },
   "outputs": [],
   "source": [
    "df = df_[pd.notnull(df_['PM2.5']) & \n",
    "          pd.notnull(df_['PM10']) &\n",
    "          pd.notnull(df_['O3'])]\n",
    "del df['SO2']\n",
    "del df['CO']\n",
    "del df['NO2']\n",
    "del df['Station_ID']\n",
    "del df['stationName']\n",
    "del df['longitude']\n",
    "del df['latitude']"
   ]
  },
  {
   "cell_type": "code",
   "execution_count": null,
   "metadata": {},
   "outputs": [],
   "source": [
    "y_col = 'PM2.5'\n",
    "X_cols = [col for col in df.columns if col not in [y_col, 'stationId', 'utc_time']]\n",
    "\n",
    "df_train = df[df.utc_time < \"2018-03-01 00:00:00\"]\n",
    "df_test = df[df.utc_time >= \"2018-03-01 00:00:00\"]\n",
    "\n",
    "X_train = df_train[X_cols]\n",
    "y_train = df_train[y_col]\n",
    "X_test = df_test[X_cols]\n",
    "y_test = df_test[y_col]"
   ]
  },
  {
   "cell_type": "code",
   "execution_count": 74,
   "metadata": {},
   "outputs": [],
   "source": [
    "def fetch_aq(city):\n",
    "    end_time = pd.datetime.now().strftime('%Y-%m-%d-%H')\n",
    "    r = requests.get(\"https://biendata.com/competition/airquality/\" + city + \"/2018-03-30-0/\" + end_time + \"/2k0d1d8\")\n",
    "    df = pd.DataFrame([i.decode('utf8').split(',') for i in r.content.splitlines()])\n",
    "    df.columns = df.iloc[0]\n",
    "    df = df.reindex(df.index.drop(0))\n",
    "    del df['id']\n",
    "    df.columns = ['stationId', 'utc_time', 'PM2.5', 'PM10', 'NO2', 'CO', 'O3', 'SO2']\n",
    "    return df\n",
    "\n",
    "df = fetch_aq(\"bj\")"
   ]
  },
  {
   "cell_type": "code",
   "execution_count": 69,
   "metadata": {},
   "outputs": [],
   "source": [
    "def fetch_meo_forecast(city, time):\n",
    "    r = requests.get(\"http://kdd.caiyunapp.com/competition/forecast/\" + city + \"/\" + time + \"/2k0d1d8\")\n",
    "    df = pd.DataFrame([i.decode('utf8').split(',') for i in r.content.splitlines()])\n",
    "    df.columns = df.iloc[0]\n",
    "    df = df.reindex(df.index.drop(0))\n",
    "    return df\n",
    "\n",
    "df = fetch_meo_forecast(\"ld\", \"2018-04-28-23\")\n",
    "df.forecast_time = pd.to_datetime(df.forecast_time)\n",
    "df.forecast_time.min()"
   ]
  },
  {
   "cell_type": "code",
   "execution_count": null,
   "metadata": {},
   "outputs": [],
   "source": []
  },
  {
   "cell_type": "code",
   "execution_count": null,
   "metadata": {},
   "outputs": [],
   "source": []
  }
 ],
 "metadata": {
  "kernelspec": {
   "display_name": "Python 3",
   "language": "python",
   "name": "python3"
  },
  "language_info": {
   "codemirror_mode": {
    "name": "ipython",
    "version": 3
   },
   "file_extension": ".py",
   "mimetype": "text/x-python",
   "name": "python",
   "nbconvert_exporter": "python",
   "pygments_lexer": "ipython3",
   "version": "3.4.3"
  }
 },
 "nbformat": 4,
 "nbformat_minor": 2
}
